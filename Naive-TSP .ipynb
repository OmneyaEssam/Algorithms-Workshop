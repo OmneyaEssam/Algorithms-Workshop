{
 "cells": [
  {
   "cell_type": "code",
   "execution_count": 87,
   "metadata": {},
   "outputs": [],
   "source": [
    "from sys import maxsize\n",
    "from itertools import permutations\n",
    "V = 4\n",
    "\n",
    "def travellingSalesmanProblem(graph, s):\n",
    " \n",
    "    # store all vertex apart from source vertex\n",
    "    vertex = []\n",
    "    v=[]\n",
    "    total_paths=[]\n",
    "    costs =[]\n",
    "    for i in range(V):\n",
    "        if i != s:\n",
    "            vertex.append(i)\n",
    " \n",
    "    # store minimum weight Hamiltonian Cycle\n",
    "    min_path = maxsize\n",
    "    next_permutation=permutations(vertex)\n",
    "    for i in next_permutation:\n",
    "           \n",
    "        # store current Path weight(cost)\n",
    "        current_pathweight = 0\n",
    " \n",
    "        # compute current path weight\n",
    "        k = s\n",
    "        v.append(s+1)\n",
    "        for j in i :\n",
    "            v.append(j+1)\n",
    "        \n",
    "            current_pathweight += graph[k][j]\n",
    "            k = j\n",
    "        current_pathweight += graph[k][s]\n",
    "    \n",
    "        min_path = min(min_path, current_pathweight)\n",
    "        \n",
    "        costs.append([ current_pathweight,v])\n",
    "        total_paths =costs\n",
    "        v=[]\n",
    "    costs = min(costs)\n",
    "    return min_path,costs,total_paths\n",
    " "
   ]
  },
  {
   "cell_type": "code",
   "execution_count": 89,
   "metadata": {},
   "outputs": [
    {
     "name": "stdout",
     "output_type": "stream",
     "text": [
      "Min cost:- 80\n",
      "The min cost with its path  [80, [1, 2, 4, 3]]\n",
      "Total paths with cots:-\n"
     ]
    },
    {
     "data": {
      "text/plain": [
       "[[95, [1, 2, 3, 4]],\n",
       " [80, [1, 2, 4, 3]],\n",
       " [95, [1, 3, 2, 4]],\n",
       " [80, [1, 3, 4, 2]],\n",
       " [95, [1, 4, 2, 3]],\n",
       " [95, [1, 4, 3, 2]]]"
      ]
     },
     "execution_count": 89,
     "metadata": {},
     "output_type": "execute_result"
    }
   ],
   "source": [
    "graph = [[0, 10, 15, 20],\n",
    "         [10, 0, 35, 25],\n",
    "         [15, 35, 0, 30],\n",
    "         [20, 25, 30, 0]]\n",
    "s = 0\n",
    "y,x , l =travellingSalesmanProblem(graph, s)\n",
    "print('Min cost:-',y)\n",
    "print('The min cost with its path ' , x)\n",
    "print(\"Total paths with cots:-\" )\n",
    "l\n"
   ]
  },
  {
   "cell_type": "code",
   "execution_count": 94,
   "metadata": {},
   "outputs": [
    {
     "name": "stdout",
     "output_type": "stream",
     "text": [
      "(1, 2, 3)\n",
      "(1, 3, 2)\n",
      "(2, 1, 3)\n",
      "(2, 3, 1)\n",
      "(3, 1, 2)\n",
      "(3, 2, 1)\n"
     ]
    }
   ],
   "source": [
    "V=4\n",
    "s=0\n",
    "vertex = []\n",
    "for i in range(V):\n",
    "    if i != s:\n",
    "        vertex.append(i)\n",
    "\n",
    "# store minimum weight Hamiltonian Cycle\n",
    "\n",
    "next_permutation=permutations(vertex)\n",
    "for i in next_permutation:\n",
    "          print(i)\n",
    "current_pathweight = 0\n",
    " "
   ]
  }
 ],
 "metadata": {
  "kernelspec": {
   "display_name": "Python 3",
   "language": "python",
   "name": "python3"
  },
  "language_info": {
   "codemirror_mode": {
    "name": "ipython",
    "version": 3
   },
   "file_extension": ".py",
   "mimetype": "text/x-python",
   "name": "python",
   "nbconvert_exporter": "python",
   "pygments_lexer": "ipython3",
   "version": "3.8.5"
  }
 },
 "nbformat": 4,
 "nbformat_minor": 4
}
