{
 "cells": [
  {
   "cell_type": "code",
   "execution_count": 66,
   "metadata": {},
   "outputs": [],
   "source": [
    "def DP_Knapsack(w,v,capacity):\n",
    "    m =np.zeros((len(w)+1, capacity+1))\n",
    "    for i in range(len(v)+1):\n",
    "        for j in range((capacity+1)):\n",
    "            if i==0 or j==0:\n",
    "                m[i][j]=0\n",
    "            elif w[i-1] <= j:\n",
    "                m[i][j]=max(m[i-1][j],v[i-1] + m[i-1][j-w[i-1]])\n",
    "            else:\n",
    "                 m[i][j] = m[i-1][j]\n",
    "    return m"
   ]
  },
  {
   "cell_type": "code",
   "execution_count": 67,
   "metadata": {},
   "outputs": [],
   "source": [
    "d = DP_Knapsack(w, v, 8)"
   ]
  },
  {
   "cell_type": "code",
   "execution_count": 68,
   "metadata": {},
   "outputs": [],
   "source": [
    "w = [2,3,4,5]\n",
    "v = [1,2,5,6]\n",
    "capacity = 8"
   ]
  },
  {
   "cell_type": "code",
   "execution_count": 69,
   "metadata": {},
   "outputs": [
    {
     "data": {
      "text/plain": [
       "array([[0., 0., 0., 0., 0., 0., 0., 0., 0.],\n",
       "       [0., 0., 1., 1., 1., 1., 1., 1., 1.],\n",
       "       [0., 0., 1., 2., 2., 3., 3., 3., 3.],\n",
       "       [0., 0., 1., 2., 5., 5., 6., 7., 7.],\n",
       "       [0., 0., 1., 2., 5., 6., 6., 7., 8.]])"
      ]
     },
     "execution_count": 69,
     "metadata": {},
     "output_type": "execute_result"
    }
   ],
   "source": [
    "d"
   ]
  },
  {
   "cell_type": "code",
   "execution_count": null,
   "metadata": {},
   "outputs": [],
   "source": []
  }
 ],
 "metadata": {
  "kernelspec": {
   "display_name": "Python 3",
   "language": "python",
   "name": "python3"
  },
  "language_info": {
   "codemirror_mode": {
    "name": "ipython",
    "version": 3
   },
   "file_extension": ".py",
   "mimetype": "text/x-python",
   "name": "python",
   "nbconvert_exporter": "python",
   "pygments_lexer": "ipython3",
   "version": "3.8.5"
  }
 },
 "nbformat": 4,
 "nbformat_minor": 4
}
