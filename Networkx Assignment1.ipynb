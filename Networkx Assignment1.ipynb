{
 "cells": [
  {
   "cell_type": "code",
   "execution_count": 1,
   "metadata": {},
   "outputs": [],
   "source": [
    "import networkx as nx"
   ]
  },
  {
   "cell_type": "code",
   "execution_count": 2,
   "metadata": {},
   "outputs": [],
   "source": [
    "G = nx.Graph()"
   ]
  },
  {
   "cell_type": "code",
   "execution_count": 4,
   "metadata": {},
   "outputs": [],
   "source": [
    "G.add_node(\"A\")\n",
    "G.add_node(\"B\")\n",
    "G.add_node(\"C\")\n",
    "G.add_node(\"D\")\n",
    "G.add_node(\"E\")\n",
    "G.add_node(\"F\")"
   ]
  },
  {
   "cell_type": "code",
   "execution_count": 5,
   "metadata": {},
   "outputs": [],
   "source": [
    "G.add_edge('A', 'C',weight=4)\n",
    "G.add_edge('A', 'D',weight=4)\n",
    "G.add_edge('C', 'D',weight=2)\n",
    "G.add_edge('D', 'B',weight=3)\n",
    "G.add_edge('D', 'E',weight=4)\n",
    "G.add_edge('D', 'F',weight=2)\n",
    "G.add_edge('B', 'E',weight=3)\n",
    "G.add_edge('E', 'F',weight=3)"
   ]
  },
  {
   "cell_type": "code",
   "execution_count": 7,
   "metadata": {},
   "outputs": [],
   "source": [
    "def display_graph(G,pos,edgeLabels):\n",
    "    nx.draw_networkx_nodes(G, pos, node_size=800, alpha=.9, node_color='#0000ac')\n",
    "    nx.draw_networkx_edges(G, pos,width=2, alpha=0.5, edge_color='k')\n",
    "    nx.draw_networkx_edge_labels(G,pos,edge_labels=edgeLabels)\n",
    "    nx.draw_networkx_labels(G, pos, font_size=18, font_family='sans-serif', font_color='white')\n",
    "    plt.ylim([-4.5,1.3])\n",
    "    limits=plt.axis('off') # turn of axis"
   ]
  },
  {
   "cell_type": "code",
   "execution_count": 11,
   "metadata": {},
   "outputs": [
    {
     "data": {
      "image/png": "[encoded data removed]",
      "text/plain": [
       "<Figure size 432x288 with 1 Axes>"
      ]
     },
     "metadata": {},
     "output_type": "display_data"
    }
   ],
   "source": [
    "import matplotlib.pyplot as plt\n",
    "\n",
    "edgeLabels = nx.get_edge_attributes(G,'weight')\n",
    "\n",
    "pos= {'A': [-0.75, 0.4], 'B': [0,0.9], 'C': [0.5,-1.2], 'D': [0.75, 0.4], 'E': [-0.75, -3], 'F': [0, -2], 'G': [0.75, -3], 'H': [ -0.5,-1.2]}\n",
    "\n",
    "display_graph(G,pos,edgeLabels)"
   ]
  },
  {
   "cell_type": "markdown",
   "metadata": {},
   "source": [
    "# DFS"
   ]
  },
  {
   "cell_type": "code",
   "execution_count": 13,
   "metadata": {},
   "outputs": [
    {
     "data": {
      "text/plain": [
       "[('A', 'C'), ('C', 'D'), ('D', 'B'), ('B', 'E'), ('E', 'F')]"
      ]
     },
     "execution_count": 13,
     "metadata": {},
     "output_type": "execute_result"
    }
   ],
   "source": [
    "list(nx.dfs_edges(G, source=\"A\"))"
   ]
  },
  {
   "cell_type": "code",
   "execution_count": 14,
   "metadata": {},
   "outputs": [
    {
     "data": {
      "text/plain": [
       "[('A', 'C'), ('C', 'D')]"
      ]
     },
     "execution_count": 14,
     "metadata": {},
     "output_type": "execute_result"
    }
   ],
   "source": [
    "list(nx.dfs_edges(G, source=\"A\", depth_limit=2))"
   ]
  },
  {
   "cell_type": "markdown",
   "metadata": {},
   "source": [
    "# BFS"
   ]
  },
  {
   "cell_type": "code",
   "execution_count": 16,
   "metadata": {},
   "outputs": [
    {
     "data": {
      "text/plain": [
       "[('A', 'C'), ('A', 'D'), ('D', 'B'), ('D', 'E'), ('D', 'F')]"
      ]
     },
     "execution_count": 16,
     "metadata": {},
     "output_type": "execute_result"
    }
   ],
   "source": [
    "list(nx.bfs_edges(G, \"A\"))"
   ]
  },
  {
   "cell_type": "code",
   "execution_count": 17,
   "metadata": {},
   "outputs": [
    {
     "name": "stdout",
     "output_type": "stream",
     "text": [
      "[('A', 'C'), ('A', 'D'), ('D', 'B'), ('D', 'E'), ('D', 'F')]\n"
     ]
    }
   ],
   "source": [
    "print(list(nx.bfs_tree(G, \"A\").edges()))"
   ]
  },
  {
   "cell_type": "markdown",
   "metadata": {},
   "source": [
    "# Dijkstra"
   ]
  },
  {
   "cell_type": "code",
   "execution_count": 18,
   "metadata": {},
   "outputs": [
    {
     "name": "stdout",
     "output_type": "stream",
     "text": [
      "['A', 'D', 'F']\n"
     ]
    }
   ],
   "source": [
    "print(nx.dijkstra_path(G, \"A\", \"F\"))"
   ]
  },
  {
   "cell_type": "markdown",
   "metadata": {},
   "source": [
    "# Prim"
   ]
  },
  {
   "cell_type": "code",
   "execution_count": 19,
   "metadata": {},
   "outputs": [],
   "source": [
    "from networkx.algorithms import tree"
   ]
  },
  {
   "cell_type": "code",
   "execution_count": 25,
   "metadata": {},
   "outputs": [
    {
     "name": "stdout",
     "output_type": "stream",
     "text": [
      "[('C', 'A'), ('A', 'D'), ('D', 'E'), ('D', 'B'), ('E', 'F')]\n"
     ]
    }
   ],
   "source": [
    "mst = tree.maximum_spanning_edges(G, algorithm=\"prim\", data=False)\n",
    "edgelist = list(mst)\n",
    "print(edgelist)"
   ]
  },
  {
   "cell_type": "markdown",
   "metadata": {},
   "source": [
    "# Kruskal"
   ]
  },
  {
   "cell_type": "code",
   "execution_count": 26,
   "metadata": {},
   "outputs": [
    {
     "name": "stdout",
     "output_type": "stream",
     "text": [
      "[('A', 'C'), ('A', 'D'), ('D', 'E'), ('B', 'D'), ('E', 'F')]\n"
     ]
    }
   ],
   "source": [
    "mst = tree.maximum_spanning_edges(G, algorithm=\"kruskal\", data=False)\n",
    "edgelist = list(mst)\n",
    "print(edgelist)"
   ]
  },
  {
   "cell_type": "code",
   "execution_count": null,
   "metadata": {},
   "outputs": [],
   "source": []
  }
 ],
 "metadata": {
  "kernelspec": {
   "display_name": "Python 3",
   "language": "python",
   "name": "python3"
  },
  "language_info": {
   "codemirror_mode": {
    "name": "ipython",
    "version": 3
   },
   "file_extension": ".py",
   "mimetype": "text/x-python",
   "name": "python",
   "nbconvert_exporter": "python",
   "pygments_lexer": "ipython3",
   "version": "3.8.5"
  }
 },
 "nbformat": 4,
 "nbformat_minor": 4
}
