{
 "cells": [
  {
   "cell_type": "code",
   "execution_count": 53,
   "metadata": {},
   "outputs": [],
   "source": [
    "class stack: ## push-pop-isempty-isfull\n",
    "    stacklist = []\n",
    "    pointter = 0\n",
    "    def __init__(self,size):\n",
    "        self.stacklist = []\n",
    "        self.size = size\n",
    "        self.pointer =0\n",
    "        \n",
    "    def isEmpty(self):\n",
    "        if self.pointer == 0:\n",
    "            return 1\n",
    "        else:\n",
    "            return 0\n",
    "    def isFull(self):\n",
    "        if self.pointer == self.size:\n",
    "            return 1\n",
    "        else:\n",
    "            return 0\n",
    "    def push(self, element):\n",
    "        if not (self.isFull()):\n",
    "            self.stacklist.append(element)\n",
    "            self.pointer += 1\n",
    "        else:\n",
    "            return (\"Stack Full\")\n",
    "    def pop(self):\n",
    "        if (self.isEmpty()):\n",
    "            return (\"Stack Empty\")\n",
    "        else:\n",
    "            self.pointer -= 1\n",
    "            return self.stacklist.pop()\n",
    "        "
   ]
  },
  {
   "cell_type": "code",
   "execution_count": 58,
   "metadata": {},
   "outputs": [],
   "source": [
    "class queue: ## push-pop-isempty-isfull\n",
    "    stacklist = []\n",
    "    pointter = 0\n",
    "    def __init__(self,size):\n",
    "        self.stacklist = []\n",
    "        self.size = size\n",
    "        self.pointer =0\n",
    "        \n",
    "    def isEmpty(self):\n",
    "        if self.pointer == 0:\n",
    "            return 1\n",
    "        else:\n",
    "            return 0\n",
    "    def isFull(self):\n",
    "        if self.pointer == self.size:\n",
    "            return 1\n",
    "        else:\n",
    "            return 0\n",
    "    def push(self, element):\n",
    "        if not (self.isFull()):\n",
    "            self.stacklist.append(element)\n",
    "            self.pointer += 1\n",
    "        else:\n",
    "            return (\"Queue Full!\")\n",
    "    def pop(self):\n",
    "        if (self.isEmpty()):\n",
    "            return (\"Queue Empty!\")\n",
    "        else:\n",
    "            self.pointer -= 1\n",
    "            return self.stacklist.pop(0)\n",
    "        "
   ]
  },
  {
   "cell_type": "code",
   "execution_count": 7,
   "metadata": {},
   "outputs": [],
   "source": [
    "from queue import Queue\n",
    "from queue import LifoQueue\n",
    "from collections import deque"
   ]
  },
  {
   "cell_type": "code",
   "execution_count": 8,
   "metadata": {},
   "outputs": [],
   "source": [
    "G={\"a\":[\"b\",\"c\",\"e\"],\"b\":[\"a\",\"d\"],\"c\":[\"a\",\"d\",\"e\",\"f\"],\"d\":[\"b\",\"c\",\"e\"],\"e\":[\"a\",\"d\",\"c\"],\"f\":[\"c\"]}"
   ]
  },
  {
   "cell_type": "markdown",
   "metadata": {},
   "source": [
    "# Dfs"
   ]
  },
  {
   "cell_type": "code",
   "execution_count": 12,
   "metadata": {},
   "outputs": [
    {
     "name": "stdout",
     "output_type": "stream",
     "text": [
      "['b', 'c', 'e']\n",
      "['a', 'd']\n",
      "['a', 'd', 'e', 'f']\n",
      "['b', 'c', 'e']\n",
      "['a', 'd', 'c']\n",
      "['c']\n"
     ]
    }
   ],
   "source": [
    "for k in G:\n",
    "    print(G[k])"
   ]
  },
  {
   "cell_type": "code",
   "execution_count": 54,
   "metadata": {},
   "outputs": [],
   "source": [
    " def dfs(G, startnode):\n",
    "        visited =[]\n",
    "        st = stack(500)\n",
    "        st.push(startnode)\n",
    "        \n",
    "        while not (st.isEmpty()):\n",
    "            nextnode = st.pop()\n",
    "            if nextnode in visited:\n",
    "                continue\n",
    "            visited.append(nextnode)\n",
    "            for element in G[nextnode]:\n",
    "                st.push(element)    \n",
    "        return visited"
   ]
  },
  {
   "cell_type": "code",
   "execution_count": 55,
   "metadata": {},
   "outputs": [
    {
     "name": "stdout",
     "output_type": "stream",
     "text": [
      "['a', 'e', 'c', 'f', 'd', 'b']\n"
     ]
    }
   ],
   "source": [
    "print(dfs(G,'a'))"
   ]
  },
  {
   "cell_type": "code",
   "execution_count": 56,
   "metadata": {},
   "outputs": [],
   "source": [
    " def bfs(G, startnode):\n",
    "        visited =[]\n",
    "        st = queue(500)\n",
    "        st.push(startnode)\n",
    "        \n",
    "        while not (st.isEmpty()):\n",
    "            nextnode = st.pop()\n",
    "            if nextnode in visited:\n",
    "                continue\n",
    "            visited.append(nextnode)\n",
    "            for element in G[nextnode]:\n",
    "                st.push(element)    \n",
    "        return visited"
   ]
  },
  {
   "cell_type": "code",
   "execution_count": 59,
   "metadata": {},
   "outputs": [
    {
     "name": "stdout",
     "output_type": "stream",
     "text": [
      "['a', 'b', 'c', 'e', 'd', 'f']\n"
     ]
    }
   ],
   "source": [
    "print(bfs(G,'a'))"
   ]
  },
  {
   "cell_type": "code",
   "execution_count": 62,
   "metadata": {},
   "outputs": [],
   "source": [
    "def Recdfs(visited, node):\n",
    "    if node not in visited:\n",
    "        visited.append(node)\n",
    "    for nodes in G[node]:\n",
    "        if nodes not in visited:\n",
    "            Recbfs(visited, nodes)"
   ]
  },
  {
   "cell_type": "code",
   "execution_count": null,
   "metadata": {},
   "outputs": [],
   "source": []
  }
 ],
 "metadata": {
  "kernelspec": {
   "display_name": "Python 3",
   "language": "python",
   "name": "python3"
  },
  "language_info": {
   "codemirror_mode": {
    "name": "ipython",
    "version": 3
   },
   "file_extension": ".py",
   "mimetype": "text/x-python",
   "name": "python",
   "nbconvert_exporter": "python",
   "pygments_lexer": "ipython3",
   "version": "3.8.5"
  }
 },
 "nbformat": 4,
 "nbformat_minor": 4
}
