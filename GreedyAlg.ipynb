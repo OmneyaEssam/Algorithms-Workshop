{
 "cells": [
  {
   "cell_type": "markdown",
   "metadata": {},
   "source": [
    "# Value/weight"
   ]
  },
  {
   "cell_type": "code",
   "execution_count": 14,
   "metadata": {},
   "outputs": [],
   "source": [
    "def fractional_default(weights,values,capacity):\n",
    "    val_wei = [ a/b for a, b in zip(values, weights)]\n",
    "    zipped_lists = zip(val_wei,weights) #pair list2 and list1 \n",
    "    sorted_zipped_lists = sorted(zipped_lists, reverse=True)\n",
    "    \n",
    "    taken = []\n",
    "    for val_weight, weight in enumerate(sorted_zipped_lists):\n",
    "        if (sum(taken) <= capacity) & (weight[1] <= capacity):\n",
    "                taken.append(weight[1])\n",
    "                capacity -= weight[1]\n",
    "        else:\n",
    "            taken.append((capacity/weight[1])*(weight[1]))\n",
    "            break\n",
    "    return taken, sum(taken)   "
   ]
  },
  {
   "cell_type": "code",
   "execution_count": 18,
   "metadata": {},
   "outputs": [],
   "source": [
    "def zero_one_default(weights,values,capacity):\n",
    "    val_wei = [ a/b for a, b in zip(values, weights)]\n",
    "    zipped_lists = zip(val_wei,weights) #pair list2 and list1 \n",
    "    sorted_zipped_lists = sorted(zipped_lists, reverse=True)\n",
    "    \n",
    "    taken = []\n",
    "    for val_weight, weight in enumerate(sorted_zipped_lists):\n",
    "        if (sum(taken) <= capacity) & (weight[1] <= capacity):\n",
    "                taken.append(weight[1])\n",
    "                capacity -= weight[1]\n",
    "        else:\n",
    "            #taken.append((capacity/weight[1])*(weight[1]))\n",
    "            break\n",
    "    return taken, sum(taken)  "
   ]
  },
  {
   "cell_type": "code",
   "execution_count": 20,
   "metadata": {},
   "outputs": [],
   "source": [
    "weights = [10,20,10,10,20,30]\n",
    "values = [60,100,150,40,80,120]\n",
    "k, p = zero_one_default(weights,values,50)"
   ]
  },
  {
   "cell_type": "code",
   "execution_count": 21,
   "metadata": {},
   "outputs": [
    {
     "data": {
      "text/plain": [
       "[10, 10, 20]"
      ]
     },
     "execution_count": 21,
     "metadata": {},
     "output_type": "execute_result"
    }
   ],
   "source": [
    "k"
   ]
  },
  {
   "cell_type": "code",
   "execution_count": 22,
   "metadata": {},
   "outputs": [
    {
     "data": {
      "text/plain": [
       "40"
      ]
     },
     "execution_count": 22,
     "metadata": {},
     "output_type": "execute_result"
    }
   ],
   "source": [
    "p"
   ]
  },
  {
   "cell_type": "markdown",
   "metadata": {},
   "source": [
    "# Minimum weight"
   ]
  },
  {
   "cell_type": "code",
   "execution_count": 2,
   "metadata": {},
   "outputs": [],
   "source": [
    "def fractional_minweight(weights,values,capacity):\n",
    "    \n",
    "    zipped_lists = zip(weights,values) #pair list2 and list1 \n",
    "    sorted_zipped1_lists = sorted(zipped_lists) #Sort by first element --values-- of each pair\n",
    "    value_sortedby_minweight = [element for _, element in sorted_zipped_lists]\n",
    "\n",
    "    weights = sorted(weights)\n",
    "    \n",
    "    min_weight = 0\n",
    "    index = list(range(len(values)))\n",
    "    taken = [0]*len(values)\n",
    "    \n",
    "    for i in index:\n",
    "        if (sum(taken) <= capacity) & (weights[i] <= capacity):\n",
    "            taken[i] = weights[i]\n",
    "            capacity -= weights[i]\n",
    "            min_weight += weights[i] \n",
    "        else:\n",
    "            #weights[i] = capacity - sum(taken)\n",
    "            taken[i] = (capacity/weights[i])*(weights[i])\n",
    "            break\n",
    "    return taken, sum(taken)"
   ]
  },
  {
   "cell_type": "code",
   "execution_count": 3,
   "metadata": {},
   "outputs": [],
   "source": [
    "def zero_one_minweight(weights,values,capacity):\n",
    "    zipped_lists = zip(weights,values) #pair list2 and list1 \n",
    "    sorted_zipped_lists = sorted(zipped_lists) #Sort by first element --values-- of each pair\n",
    "    value_sortedby_minweight = [element for _, element in sorted_zipped_lists]\n",
    "\n",
    "    weights = sorted(weights)\n",
    "    \n",
    "    min_weight = 0\n",
    "    index = list(range(len(values)))\n",
    "    taken = [0]*len(values)\n",
    "    \n",
    "    for i in index:\n",
    "        if (sum(taken) <= capacity) & (weights[i] <= capacity):\n",
    "            taken[i] = weights[i]\n",
    "            capacity -= weights[i]\n",
    "            min_weight += weights[i] \n",
    "        else:\n",
    "            #weights[i] = capacity - sum(taken)\n",
    "            #taken[i] = (capacity/weights[i])*(weights[i])\n",
    "            break\n",
    "    return taken, sum(taken)"
   ]
  },
  {
   "cell_type": "markdown",
   "metadata": {},
   "source": [
    "# Maximum profit"
   ]
  },
  {
   "cell_type": "code",
   "execution_count": 4,
   "metadata": {},
   "outputs": [],
   "source": [
    "def fractional_maxprofit(weights,values,capacity):\n",
    "    zipped_lists = zip(values,weights) #pair list2 and list1 \n",
    "    sorted_zipped_lists = sorted(zipped_lists, reverse=True) #Sort by first element --values-- of each pair\n",
    "    weight_sortedby_profit = [element for _, element in sorted_zipped_lists]\n",
    "    \n",
    "    values = sorted(values, reverse=True)\n",
    "    \n",
    "    max_profit = 0\n",
    "    index = list(range(len(values)))\n",
    "    taken = [0]*len(values)\n",
    "    for i in index:\n",
    "            if (sum(taken) <= capacity) & (weight_sortedby_profit[i] <= capacity):\n",
    "                taken[i] = weight_sortedby_profit[i]\n",
    "                capacity -= weight_sortedby_profit[i]\n",
    "                max_profit += values[i]\n",
    "            else:\n",
    "                #weights[i] = capacity - sum(taken)\n",
    "                taken[i] = (capacity/weight_sortedby_profit[i])*(weight_sortedby_profit[i])\n",
    "                max_profit += values[i]*capacity/weight_sortedby_profit[i]\n",
    "                break\n",
    "    return taken, max_profit   "
   ]
  },
  {
   "cell_type": "code",
   "execution_count": 5,
   "metadata": {},
   "outputs": [],
   "source": [
    "def zero_one_maxprofit(weights,values,capacity):\n",
    "    zipped_lists = zip(values,weights) #pair list2 and list1 \n",
    "    sorted_zipped_lists = sorted(zipped_lists, reverse=True) #Sort by first element --values-- of each pair\n",
    "    weight_sortedby_profit = [element for _, element in sorted_zipped_lists]\n",
    "    \n",
    "    values = sorted(values, reverse=True)\n",
    "    \n",
    "    max_profit = 0\n",
    "    index = list(range(len(values)))\n",
    "    taken = [0]*len(values)\n",
    "    for i in index:\n",
    "            if (sum(taken) <= capacity) & (weight_sortedby_profit[i] <= capacity):\n",
    "                taken[i] = weight_sortedby_profit[i]\n",
    "                capacity -= weight_sortedby_profit[i]\n",
    "                max_profit += values[i]\n",
    "            else:\n",
    "                #weights[i] = capacity - sum(taken)\n",
    "                #taken[i] = (capacity/weight_sortedby_profit[i])*(weight_sortedby_profit[i])\n",
    "                #max_profit += values[i]*capacity/weight_sortedby_profit[i]\n",
    "                break\n",
    "    return taken, max_profit   "
   ]
  },
  {
   "cell_type": "markdown",
   "metadata": {},
   "source": [
    "# Main"
   ]
  },
  {
   "cell_type": "code",
   "execution_count": 17,
   "metadata": {
    "scrolled": true
   },
   "outputs": [
    {
     "name": "stdout",
     "output_type": "stream",
     "text": [
      "Welcome in Knapsak!\n",
      "Enter number of elements : 3\n",
      "\n",
      "Enter the weights: 5 20 10\n",
      "\n",
      "Enter the values: 120 100 150\n",
      "Please enter the capacity: 30\n",
      "1.Maximum value per weight\n",
      "2.Maximum profit\n",
      "3.Minimum weight\n",
      "4.Exit\n",
      "Enter your cost function: 1\n",
      "1.Fractional\n",
      "2. 0-1\n",
      "Enter the type of the problem: 1\n",
      "Knapsack solution is [5, 10, 15.0] and the cost function is 30.0 \n",
      "Welcome in Knapsak!\n",
      "Enter number of elements : 4\n",
      "\n",
      "Enter the weights: 1 2 3\n",
      "\n",
      "Enter the values: 1 3 4\n",
      "Please enter the capacity: 5\n",
      "1.Maximum value per weight\n",
      "2.Maximum profit\n",
      "3.Minimum weight\n",
      "4.Exit\n",
      "Enter your cost function: 4\n"
     ]
    }
   ],
   "source": [
    "while True:\n",
    "    costFunction = 0\n",
    "    knapsack =[]\n",
    "    \n",
    "    val_per_weigh_frac = []\n",
    "    val_per_weigh_0_1 = []\n",
    "    val_per_wei_frac_costf =0\n",
    "    val_per_wei_0_1_costf = 0\n",
    "    \n",
    "    min_wei_frac = []\n",
    "    min_wei_0_1 = []\n",
    "    min_wei_frac_costf =0\n",
    "    min_wei_0_1_costf = 0\n",
    "    \n",
    "    max_pro_frac = []\n",
    "    max_pro_0_1 = []\n",
    "    max_pro_frac_costf =0\n",
    "    max_pro_0_1_costf = 0\n",
    "    \n",
    "    \n",
    "    print(\"Welcome in Knapsak!\")\n",
    "    \n",
    "    n = int(input(\"Enter number of elements : \"))\n",
    "    weights = list(map(int,input(\"\\nEnter the weights: \").strip().split()))[:n]\n",
    "    values = list(map(int,input(\"\\nEnter the values: \").strip().split()))[:n]\n",
    "    capacity = int(input(\"Please enter the capacity: \"))\n",
    "    \n",
    "    print(\"1.Maximum value per weight\")\n",
    "    print(\"2.Maximum profit\")\n",
    "    print(\"3.Minimum weight\")\n",
    "    print(\"4.All\")\n",
    "    print(\"5.Exit\")\n",
    "    choice=int(input(\"Enter your cost function: \"))\n",
    "    \n",
    "    if choice==1:\n",
    "        print(\"1.Fractional\")\n",
    "        print(\"2. 0-1\")\n",
    "        choice2 = int(input(\"Enter the type of the problem: \"))\n",
    "        if choice2 == 1:\n",
    "            knapsack, costFunction = fractional_default(weights, values, capacity)\n",
    "            print(\"Knapsack solution is {} and the cost function is {} \".format(knapsack, costFunction))\n",
    "        else:\n",
    "            knapsack, costFunction = zero_one_default(weights, values, capacity)\n",
    "            print(\"Knapsack solution is {} and the cost function is {} \".format(knapsack, costFunction))\n",
    "      \n",
    "    elif choice==2:\n",
    "        print(\"1.Fractional\")\n",
    "        print(\"2. 0-1\")\n",
    "        choice2 = int(input(\"Enter the type of the problem: \"))\n",
    "        if choice2 == 1:\n",
    "            knapsack, costFunction = fractional_maxprofit(weights, values, capacity)\n",
    "            print(\"Knapsack solution is {} and the cost function is {} \".format(knapsack, costFunction))\n",
    "        else:\n",
    "            knapsack, costFunction = zero_one_maxprofit(weights, values, capacity)\n",
    "            print(\"Knapsack solution is {} and the cost function is {} \".format(knapsack, costFunction))            \n",
    "            \n",
    "    elif choice==3:\n",
    "        print(\"1.Fractional\")\n",
    "        print(\"2. 0-1\")\n",
    "        choice2 = int(input(\"Enter the type of the problem: \"))\n",
    "        if choice2 == 1:\n",
    "            knapsack, costFunction = fractional_minweight(weights, values, capacity)\n",
    "            print(\"Knapsack solution is {} and the cost function is {} \".format(knapsack, costFunction))            \n",
    "        else:\n",
    "            knapsack, costFunction = zero_one_minweight(weights, values, capacity)\n",
    "            print(\"Knapsack solution is {} and the cost function is {} \".format(knapsack, costFunction))\n",
    "    \n",
    "    elif choice==4:\n",
    "        val_per_weigh_frac, val_per_wei_frac_costf = fractional_default(weights, values, capacity)\n",
    "        val_per_weigh_0_1, val_per_wei_0_1_costf = zero_one_default(weights, values, capacity)\n",
    "        \n",
    "        min_wei_frac, min_wei_frac_costf = fractional_minweight(weights, values, capacity)\n",
    "        min_wei_0_1, min_wei_0_1_costf = zero_one_minweight(weights, values, capacity)\n",
    "\n",
    "        max_pro_frac, max_pro_frac_costf = fractional_minweight(weights, values, capacity)\n",
    "        max_pro_0_1, max_pro_0_1_costf = zero_one_minweight(weights, values, capacity)\n",
    "        print(\"For Fractional Maximum value/weight : knapsack = {} and the total cost function = {}\".format(val_per_weigh_frac, val_per_wei_frac_costf))\n",
    "        print(\"For 0-1 Maximum value/weight : knapsack = {} and the total cost function = {}\".format(val_per_weigh_0_1, val_per_wei_0_1_costf))\n",
    "        print(\"For Fractional Maximum profit : knapsack = {} and the total cost function = {}\".format(max_pro_frac, max_pro_frac_costf))\n",
    "        print(\"For 0-1 Maximum profit : knapsack = {} and the total cost function = {}\".format(max_pro_0_1, max_pro_0_1_costf))\n",
    "        print(\"For Fractional Minimum weight : knapsack = {} and the total cost function = {}\".format(min_wei_frac, min_wei_frac_costf))\n",
    "        print(\"For 0-1 Minimum weight : knapsack = {} and the total cost function = {}\".format(min_wei_0_1, min_wei_0_1_costf))\n",
    "\n",
    "        \n",
    "    elif choice==5:\n",
    "        break    \n",
    "    else:\n",
    "        raise(print(\"Please Enter a valid choice\"))\n",
    "        "
   ]
  },
  {
   "cell_type": "code",
   "execution_count": null,
   "metadata": {},
   "outputs": [],
   "source": []
  },
  {
   "cell_type": "code",
   "execution_count": 10,
   "metadata": {},
   "outputs": [
    {
     "data": {
      "text/plain": [
       "[1, 2, 3]"
      ]
     },
     "execution_count": 10,
     "metadata": {},
     "output_type": "execute_result"
    }
   ],
   "source": [
    "a"
   ]
  },
  {
   "cell_type": "code",
   "execution_count": null,
   "metadata": {},
   "outputs": [],
   "source": []
  }
 ],
 "metadata": {
  "kernelspec": {
   "display_name": "Python 3",
   "language": "python",
   "name": "python3"
  },
  "language_info": {
   "codemirror_mode": {
    "name": "ipython",
    "version": 3
   },
   "file_extension": ".py",
   "mimetype": "text/x-python",
   "name": "python",
   "nbconvert_exporter": "python",
   "pygments_lexer": "ipython3",
   "version": "3.8.5"
  }
 },
 "nbformat": 4,
 "nbformat_minor": 4
}
